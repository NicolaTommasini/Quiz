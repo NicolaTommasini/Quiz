{
 "cells": [
  {
   "cell_type": "code",
   "execution_count": 151,
   "metadata": {},
   "outputs": [],
   "source": [
    "import pandas as pd\n",
    "import spacy\n",
    "from fuzzywuzzy import fuzz\n",
    "\n",
    "\n",
    "nlp = spacy.load(\"en_core_web_sm\")\n",
    "nlp.add_pipe((\"sentencizer\"), before=\"parser\")\n",
    "\n",
    "\n",
    "def filter_dataframe(input_text,df):\n",
    "\n",
    "    doc = nlp(input_text)\n",
    "\n",
    "    column_name = None\n",
    "    operator = None\n",
    "    value = None\n",
    "\n",
    "    for token in doc:\n",
    "        print(f\"{token.pos_}\")\n",
    "        print(f\"{token.text}\")\n",
    "        # Columns math\n",
    "        if token.pos_ in ('NOUN','PROPN'):\n",
    "            for col in df.columns:\n",
    "                score = fuzz.ratio(token.text.lower(), col.lower())\n",
    "                if score >= 60:\n",
    "                    column_name = col\n",
    "                    break\n",
    "        \n",
    "        # Mapping\n",
    "        elif token.pos_ in ['VERB', 'ADJ','X','ADP']:\n",
    "            if token.text.lower() in ['greater', 'more']:\n",
    "                operator = '>'\n",
    "            elif token.text.lower() in ['less', 'fewer']:\n",
    "                operator = '<'\n",
    "            elif token.text.lower() in ['equal', 'equals', 'same','=']:\n",
    "                operator = '=='\n",
    "            elif token.text in ['>', '<', '==']:\n",
    "                operator = token.text\n",
    "        \n",
    "       \n",
    "        elif operator and (token.pos_ in ['NUM', 'NOUN', 'PROPN']):\n",
    "            value = token.text\n",
    "            if token.pos_ == 'NUM':\n",
    "                if column_name in df.select_dtypes(include=['number']).columns:\n",
    "                    value = float(value)\n",
    "                else:\n",
    "                    value = str(value)\n",
    "\n",
    "    print(f\"Operator: {operator}\")\n",
    "    print(f\"{column_name},{operator},{value}\")\n",
    "        \n",
    "    if column_name and operator and value:\n",
    "        if column_name in df.select_dtypes(include=['number']).columns:\n",
    "            value = float(value)\n",
    "        else:\n",
    "            value = str(value)\n",
    "\n",
    "        filtered_df = df.query(f\"{column_name} {operator} @value\")\n",
    "        return filtered_df\n",
    "    \n",
    "    else:\n",
    "        return \"Not Found\"\n"
   ]
  }
 ],
 "metadata": {
  "kernelspec": {
   "display_name": "Python 3",
   "language": "python",
   "name": "python3"
  },
  "language_info": {
   "codemirror_mode": {
    "name": "ipython",
    "version": 3
   },
   "file_extension": ".py",
   "mimetype": "text/x-python",
   "name": "python",
   "nbconvert_exporter": "python",
   "pygments_lexer": "ipython3",
   "version": "3.10.7"
  },
  "orig_nbformat": 4,
  "vscode": {
   "interpreter": {
    "hash": "44cb3fe1dd805318cd34d88f9f411e1a8006378c32c572d46f3d28feede50064"
   }
  }
 },
 "nbformat": 4,
 "nbformat_minor": 2
}
